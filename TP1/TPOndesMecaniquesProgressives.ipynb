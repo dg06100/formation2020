{
 "cells": [
  {
   "cell_type": "markdown",
   "metadata": {},
   "source": [
    "<font color='red'> <h1> TP Ondes mécaniques progressives </h1> </font>  "
   ]
  },
  {
   "cell_type": "markdown",
   "metadata": {},
   "source": [
    "<font color=\"red\"> <h2> Mesure de la célérité du son avec la carte d'aquisition Sysam.</h2> </font>"
   ]
  },
  {
   "cell_type": "markdown",
   "metadata": {},
   "source": [
    "<div style=\"background-color: black;color:white;padding:20px;\">\n",
    "<b> Réalisation du montage. <b>\n",
    "</div>\n",
    "\n",
    "<div style = \"background-color:ivory\">\n",
    "<ul>\n",
    "    <li> Régler le générateur de tension sur 12 V;\n",
    "    <li> Relier la borne positive du générateur à l'entrée 12 V du module de l'émetteur à US; </li>\n",
    "    <li> Relier la borne négative du générateur à l'entrée 0 V du module de l'émetteur à US;</li>\n",
    "    <li> Sur le module de l’émetteur, choisir <b> Salves et Rapide </b>;</li>\n",
    "    <li> Régler le rapport cyclique de l'émetteur à US à peu près au tiers de sa course;</li>\n",
    "    <li> Relier la voie EA0 de Sysam à l’entrée Test du module émetteur;</li>\n",
    "    <li> Relier la masse de Sysam à la masse du module émetteur; </li>\n",
    "    <li> Relier la voie EA1 de Sysam sur une entrée du récepteur; </li>\n",
    "    <li> Relier la masse de Sysam à l’autre entrée du récepteur.</li>\n",
    "</ul>\n",
    "</div>\n",
    "<img src=\"MontageUS.png\" alt=\"Photo du montage expérimental\">"
   ]
  },
  {
   "cell_type": "markdown",
   "metadata": {},
   "source": [
    "<div style=\"background-color: black;color:white;padding:20px;\">\n",
    "<b> Réglage du logiciel Mesures électriques. <b>\n",
    "</div>\n",
    "\n",
    "<div style=\"background-color:ivory; padding:10px\">\n",
    "    <ul>\n",
    "        <li> Ouvrir le logiciel <b> Mesures électriques; </b> </li>\n",
    "        <li> Commencer par les paramétrages suivants:  </li>\n",
    "            <ul>\n",
    "                <li> En bas à gauche de la fenêtre, il faut : </li>\n",
    "                <li> Spécifier au logiciel qu’on utilise les entrées EA0 et EA1  Active </li>\n",
    "                <li> Préciser le calibre utilisé : - 10V + 10 V pour EA0 et - 1V + 1 V pour EA1 </li>\n",
    "                <li> Durée totale : 10 ms. </li>\n",
    "                <li> Nombre de points : 25 001. </li>\n",
    "                <li> Déclenchement : type: Manuel</li>\n",
    "            </ul>\n",
    "    </ul>  \n",
    "</div>"
   ]
  },
  {
   "cell_type": "markdown",
   "metadata": {},
   "source": [
    "<div style=\"background-color: black;color:white;padding:20px;\">\n",
    "<b> Première acquisition et exploitation. <b>\n",
    "</div>\n",
    "\n",
    "<div style =\"background-color:ivory\">\n",
    "Placer l'émetteur et le récepteur à une distance précise, d = 10 cm par exemple. Faire une première acquisition en cliquant sur le bouton <b> Démarrer l'acquisition </b>.\n",
    "</div>\n",
    "\n",
    "<div style=\"background-color: AliceBlue;color:black;padding:20px;\">\n",
    "<ol>\n",
    "    <li> Noter la distance d entre l’émetteur et le récepteur ainsi que la durée ∆t de propagation du signal. </li>\n",
    "    <li> Écrire une formule permettant de calculer la célérité V des ultrasons à l’aide de vos mesures </li>\n",
    "    <li> Calculer une première valeur V de la célérité des ultrasons. </li>\n",
    "</ol>\n",
    "</div>"
   ]
  },
  {
   "cell_type": "markdown",
   "metadata": {},
   "source": [
    "<div style=\"background-color: black;color:white;padding:20px;\">\n",
    "<b> Répétition des mesures en vue de tracer le graphique d=f(∆t). <b>\n",
    "</div>\n",
    "<br>\n",
    "<div style=\"background-color: ivory;color:black;padding:20px;\">\n",
    "<ul>\n",
    "    <li> Recommencer l’expérience précédente en notant la durée ∆t pour différentes valeurs de d régulèrement réparties entre 10 et 50 cm (tous les 5 cm par exemple).</li>\n",
    "    <li> Saisir vos valeurs dans les deux listes <b> distance et duree </b> du code python donné-ci-dessous puis <span style=\"color: red\"> cliquer sur le bouton Executer la cellule pour actualiser votre saisie</span>.</li>\n",
    "</ul>\n",
    "    </div>\n",
    "\n",
    "<br>\n",
    "<b> Remarque: </b>\n",
    "    <ul>\n",
    "        <li> Les éléments d'une liste sont séparés par des virgules;</li>\n",
    "        <li> Le séparateur décimal est un point et non pas une virgule en python; </li>\n",
    "        <li> Les éléments de la liste distance sont exprimés en <b> cm </b>; </li>\n",
    "        <li> Les éléments de la liste duree sont exprimés en <b> $\\mu$s </b>; </li>\n",
    "        <li> Les deux listes distance et duree doivent avoir le même nombre d'éléments; </li>  \n",
    "    </ul>\n"
   ]
  },
  {
   "cell_type": "code",
   "execution_count": 92,
   "metadata": {},
   "outputs": [
    {
     "data": {
      "text/html": [
       "<div>\n",
       "<style scoped>\n",
       "    .dataframe tbody tr th:only-of-type {\n",
       "        vertical-align: middle;\n",
       "    }\n",
       "\n",
       "    .dataframe tbody tr th {\n",
       "        vertical-align: top;\n",
       "    }\n",
       "\n",
       "    .dataframe thead th {\n",
       "        text-align: right;\n",
       "    }\n",
       "</style>\n",
       "<table border=\"1\" class=\"dataframe\">\n",
       "  <thead>\n",
       "    <tr style=\"text-align: right;\">\n",
       "      <th></th>\n",
       "      <th>Distance (cm)</th>\n",
       "      <th>Distance (m)</th>\n",
       "      <th>Durée (µs)</th>\n",
       "      <th>Durée (s)</th>\n",
       "    </tr>\n",
       "  </thead>\n",
       "  <tbody>\n",
       "    <tr>\n",
       "      <td>0</td>\n",
       "      <td>0</td>\n",
       "      <td>0.00</td>\n",
       "      <td>0</td>\n",
       "      <td>0.00000</td>\n",
       "    </tr>\n",
       "    <tr>\n",
       "      <td>1</td>\n",
       "      <td>10</td>\n",
       "      <td>0.10</td>\n",
       "      <td>360</td>\n",
       "      <td>0.00036</td>\n",
       "    </tr>\n",
       "    <tr>\n",
       "      <td>2</td>\n",
       "      <td>15</td>\n",
       "      <td>0.15</td>\n",
       "      <td>540</td>\n",
       "      <td>0.00054</td>\n",
       "    </tr>\n",
       "    <tr>\n",
       "      <td>3</td>\n",
       "      <td>20</td>\n",
       "      <td>0.20</td>\n",
       "      <td>660</td>\n",
       "      <td>0.00066</td>\n",
       "    </tr>\n",
       "    <tr>\n",
       "      <td>4</td>\n",
       "      <td>25</td>\n",
       "      <td>0.25</td>\n",
       "      <td>890</td>\n",
       "      <td>0.00089</td>\n",
       "    </tr>\n",
       "    <tr>\n",
       "      <td>5</td>\n",
       "      <td>30</td>\n",
       "      <td>0.30</td>\n",
       "      <td>1010</td>\n",
       "      <td>0.00101</td>\n",
       "    </tr>\n",
       "    <tr>\n",
       "      <td>6</td>\n",
       "      <td>35</td>\n",
       "      <td>0.35</td>\n",
       "      <td>1170</td>\n",
       "      <td>0.00117</td>\n",
       "    </tr>\n",
       "    <tr>\n",
       "      <td>7</td>\n",
       "      <td>40</td>\n",
       "      <td>0.40</td>\n",
       "      <td>1250</td>\n",
       "      <td>0.00125</td>\n",
       "    </tr>\n",
       "    <tr>\n",
       "      <td>8</td>\n",
       "      <td>45</td>\n",
       "      <td>0.45</td>\n",
       "      <td>1380</td>\n",
       "      <td>0.00138</td>\n",
       "    </tr>\n",
       "    <tr>\n",
       "      <td>9</td>\n",
       "      <td>50</td>\n",
       "      <td>0.50</td>\n",
       "      <td>1580</td>\n",
       "      <td>0.00158</td>\n",
       "    </tr>\n",
       "  </tbody>\n",
       "</table>\n",
       "</div>"
      ],
      "text/plain": [
       "   Distance (cm)  Distance (m)  Durée (µs)  Durée (s)\n",
       "0              0          0.00           0    0.00000\n",
       "1             10          0.10         360    0.00036\n",
       "2             15          0.15         540    0.00054\n",
       "3             20          0.20         660    0.00066\n",
       "4             25          0.25         890    0.00089\n",
       "5             30          0.30        1010    0.00101\n",
       "6             35          0.35        1170    0.00117\n",
       "7             40          0.40        1250    0.00125\n",
       "8             45          0.45        1380    0.00138\n",
       "9             50          0.50        1580    0.00158"
      ]
     },
     "execution_count": 92,
     "metadata": {},
     "output_type": "execute_result"
    }
   ],
   "source": [
    "import pandas as pd\n",
    "\n",
    "distance = [0,10,15,20,25,30,35,40,45,50]\n",
    "\n",
    "duree = [0,360,540,660,890,1010,1170,1250,1380,1580]\n",
    "\n",
    "distance_convertie = [i/100 for i in distance]\n",
    "\n",
    "duree_convertie = [i/(1E6) for i in duree]\n",
    "\n",
    "Affichage_Tableau= pd.DataFrame({'Distance (cm)':distance,'Distance (m)':distance_convertie,'Durée (µs)':duree,'Durée (s)':duree_convertie})\n",
    "\n",
    "Affichage_Tableau"
   ]
  },
  {
   "cell_type": "markdown",
   "metadata": {},
   "source": [
    "<div style=\"background-color: AliceBlue;color:black;padding:20px;\">\n",
    "<ol start = \"4\">\n",
    "    <li> Modifier le code python ci-dessous de façon à tracer le graphique représentant la distance d en fonction de la durée $\\Delta $t. <span style=\"color: red\"> Cliquer ensuite sur le bouton Executer la cellule pour actualiser votre saisie</span>.</li>\n",
    "</ol>\n",
    "<br>\n",
    "<b> Remarque: </b>\n",
    "    <ul>\n",
    "        <li> La ligne plt.plot(abscisses,ordonnees,'r+') permet d'afficher les points contenus dans les listes abscisses et ordonnees.</li>\n",
    "        <li> 'r+' indique que chaque point est représenté par une croix rouge. On pourrait mettre à la place 'bo--' pour remplacer les croix par des ronds bleus reliés entre eux par des pointillés</li> \n",
    "    </ul>\n",
    "    \n",
    "    \n",
    "    \n",
    "</div>"
   ]
  },
  {
   "cell_type": "code",
   "execution_count": 93,
   "metadata": {},
   "outputs": [
    {
     "data": {
      "image/png": "[encoded data removed]",
      "text/plain": [
       "<Figure size 432x288 with 1 Axes>"
      ]
     },
     "metadata": {
      "needs_background": "light"
     },
     "output_type": "display_data"
    }
   ],
   "source": [
    "import matplotlib.pyplot as plt\n",
    "\n",
    "plt.grid(which='both')\n",
    "plt.ylabel(\"Distance (m)\")\n",
    "plt.xlabel(\"Durée de propagation (s)\")\n",
    "plt.ylim(0,1.1*max(distance_convertie))\n",
    "plt.xlim(0,1.1*max(duree_convertie))\n",
    "plt.title(f\"Détermination de la célérité du son\")\n",
    "plt.plot(duree_convertie,distance_convertie,'r+')\n",
    "plt.show()"
   ]
  },
  {
   "cell_type": "markdown",
   "metadata": {},
   "source": [
    "<div style=\"background-color: AliceBlue;color:black;padding:20px;\">\n",
    "<ol start = \"5\">\n",
    "    <li> Mathématiquement, que peut-on dire des grandeurs D et $\\Delta$t dans une première approximation ?</li>\n",
    "    <li> Vérifier votre résultat avec la modélisation suivante (<span style=\"color:red\"> Cliquer sur le bouton Executer pour obtenir le résultat de la modélisation de la série de mesures </span>). </li>\n",
    "</ol>\n",
    "    </div>"
   ]
  },
  {
   "cell_type": "code",
   "execution_count": 94,
   "metadata": {},
   "outputs": [
    {
     "data": {
      "image/png": "[encoded data removed]",
      "text/plain": [
       "<Figure size 432x288 with 1 Axes>"
      ]
     },
     "metadata": {
      "needs_background": "light"
     },
     "output_type": "display_data"
    },
    {
     "name": "stdout",
     "output_type": "stream",
     "text": [
      "La modélisation de la série de mesures par une fonction affine D = A*t+B donne:\n",
      "A = 323 m/s\n",
      "B = 0 m\n"
     ]
    }
   ],
   "source": [
    "import numpy as np\n",
    "\n",
    "A = np.polyfit(duree_convertie,distance_convertie,1)[0]\n",
    "B = np.polyfit(duree_convertie,distance_convertie,1)[1]\n",
    "\n",
    "def f(t):\n",
    "    return A*t+B\n",
    "duree_convertie = np.array(duree_convertie)\n",
    "\n",
    "plt.grid(which='both')\n",
    "plt.ylabel(\"Distance (m)\")\n",
    "plt.xlabel(\"Durée de propagation (s)\")\n",
    "plt.ylim(0,1.1*max(distance_convertie))\n",
    "plt.xlim(0,1.1*max(duree_convertie))\n",
    "plt.title(f\"Modélisation de la série de mesures\")\n",
    "plt.plot(duree_convertie,f(duree_convertie),'bo--')\n",
    "plt.show()\n",
    "\n",
    "print(f\"La modélisation de la série de mesures par une fonction affine D = A*t+B donne:\")\n",
    "print(f\"A = {int(A)} m/s\" )\n",
    "print(f\"B = {int(B)} m\")"
   ]
  },
  {
   "cell_type": "markdown",
   "metadata": {},
   "source": [
    "<div style=\"background-color:AliceBlue;color:black;padding:20px;\" >\n",
    "<ol start=\"7\">\n",
    "<li> Calculer votre erreur relative sachant que la célérité du son est donnée par la relation suivante: <center> $ \\text{V} = \\sqrt{\\dfrac{\\gamma \\times \\text{R} \\times \\text{T}}{\\mu}}$</center></li>\n",
    "</ol>\n",
    "Avec:\n",
    "    <ul>\n",
    "        <li> R = 8,314 (Constante des gaz parfaits) </li>\n",
    "        <li> $\\gamma = 1,4$ </li>\n",
    "        <li> T : température de l'aire exprimée en Kelvin (K)</li>\n",
    "        <li> $\\mu$ = 0,29 kg/mol</li>\n",
    "    </ul>\n",
    "</div>"
   ]
  },
  {
   "cell_type": "markdown",
   "metadata": {},
   "source": [
    "<font color=\"red\"> <h2> Propagation d'une onde à la surface de l'eau. </h2> </font>"
   ]
  },
  {
   "cell_type": "markdown",
   "metadata": {},
   "source": [
    "<div style=\"background-color: black;color:white;padding:20px;\">\n",
    "<b> Protocole expérimental. <b>\n",
    "</div>\n",
    "    \n",
    " <div style=\"background-color:ivory\">\n",
    "    \n",
    "<ul>\n",
    "    <li> Pour exploiter la vidéo image par image, ouvrir le logiciel <b> Avimeca </b> (Bureau $\\rightarrow$ Logiciels $\\rightarrow$ Physique). </li>\n",
    "    <li> Cliquer sur <b> Fichiers </b> $\\rightarrow$ Ouvrir un clip vidéo puis ouvrir la vidéo<em> cuve.avi </em> ;</li>\n",
    "    <li> Cliquer sur <b> Clip </b> $\\rightarrow$ Adapter, cocher la case « Adapter » puis cliquer sur OK ; </li>\n",
    "    <li> Dans l’onglet <b> étalonnage </b> sur la droite de l’écran, cocher la case « origine et sens des axes » puis choisir le deuxième repère en partant de la gauche ; </li>\n",
    "    <li> Cliquer sur l'image de façon à placer l'origine du repère à la base de la vague comme ci-dessous;</li>\n",
    "    <li> Toujours dans l’onglet <b> étalonnage </b>, cocher la case <b> échelle </b> ;\n",
    "    <li> Changer la valeur de d et la remplacer par 1,05 m (longueur de la cuve qui va servir à l'étalonnage);</li> \n",
    "    <li> Sur l'image, cliquer sur le bord intérieur gauche de la cuve; </li>\n",
    "    <li> Cocher ensuite la <b> case deuxième point </b> puis, sur l'image, cliquer sur le bord intérieur droit de la cuve (l'étalonnage de la vidéo est terminé);</li>\n",
    "    <li> Le pointage de la vidéo peut commencer : cliquer sur l'onglet <b> Mesures </b> ; </li>\n",
    "    <li> Sur l'image, cliquer sur le front de l’onde (base de la vague correspondant à l'origine du repère) : les coordonnées du point s’affichent dans le tableau et la vidéo passe à l’image suivante; </li>\n",
    "    <li> Pour ne pas pointer chaque image, à l'aide du bouton <b> Aller à l'image suivante </b> (en bas à gauche), avancer jusqu'à l'image 5, puis cliquer de nouveau sur le front de l'onde;</li>\n",
    "    <li> Recommencer ainsi de suite jusqu'à la fin de la vidéo de façon à pointer le front de l'onde toutes les 5 images</li>;\n",
    "    <li> Dans le code python ci-dessous, compléter les listes <b> temps et position </b> à l'aide de vos mesures. </li>\n",
    "</ul>\n",
    " </div>\n",
    "<br> \n",
    " <b> Remarque: </b>\n",
    "    <ul>\n",
    "        <li> Les éléments d'une liste sont séparés par des virgules;</li>\n",
    "        <li> Le séparateur décimal est un point et non pas une virgule en python; </li>\n",
    "        <li> Les éléments de la liste distance sont exprimés en <b> cm </b>; </li>\n",
    "        <li> Les éléments de la liste duree sont exprimés en <b> $\\mu$s </b>; </li>\n",
    "        <li> Les deux listes distance et duree doivent avoir le même nombre d'éléments; </li>  \n",
    "    </ul>\n"
   ]
  },
  {
   "cell_type": "code",
   "execution_count": 95,
   "metadata": {},
   "outputs": [
    {
     "data": {
      "image/png": "[encoded data removed]",
      "text/plain": [
       "<Figure size 432x288 with 1 Axes>"
      ]
     },
     "metadata": {
      "needs_background": "light"
     },
     "output_type": "display_data"
    }
   ],
   "source": [
    "position = [0,0.0716,0.155,0.249,0.336,0.433,0.517,0.603,0.714,]\n",
    "temps = [0,0.133,0.300,0.467,0.633,0.800,0.967,1.133,1.300,]\n",
    "\n",
    "plt.grid(which='both')\n",
    "plt.ylabel(\"Distance (m)\")\n",
    "plt.xlabel(\"Durée de propagation (s)\")\n",
    "plt.ylim(0,1.1*max(position))\n",
    "plt.xlim(0,1.1*max(temps))\n",
    "plt.title(f\"Détermination de la célérité de la vague\")\n",
    "plt.plot(temps,position,'r+')\n",
    "plt.show()"
   ]
  },
  {
   "cell_type": "markdown",
   "metadata": {},
   "source": [
    "<div style=\"background-color:aliceblue;color:black;padding=20px\">\n",
    "\n",
    "<ol start=\"7\">\n",
    "    <li> Quelle conclusion peut-on tirer du graphique précédent ? </li>\n",
    "    <li> Déterminer la célérité de l'onde.</li> \n",
    "</ol>\n",
    "\n",
    "</div>"
   ]
  },
  {
   "cell_type": "code",
   "execution_count": 99,
   "metadata": {},
   "outputs": [
    {
     "data": {
      "image/png": "[encoded data removed]",
      "text/plain": [
       "<Figure size 432x288 with 1 Axes>"
      ]
     },
     "metadata": {
      "needs_background": "light"
     },
     "output_type": "display_data"
    },
    {
     "name": "stdout",
     "output_type": "stream",
     "text": [
      "La modélisation de la série de mesures par une fonction affine d = A*t+B donne:\n",
      "A = 0.54 m/s\n",
      "B = 0 m\n"
     ]
    }
   ],
   "source": [
    "A = np.polyfit(temps,position,1)[0]\n",
    "B = np.polyfit(temps,position,1)[1]\n",
    "\n",
    "temps = np.array(temps)\n",
    "\n",
    "plt.grid(which='both')\n",
    "plt.ylabel(\"Position (m)\")\n",
    "plt.xlabel(\"Temps (s)\")\n",
    "plt.ylim(0,1.1*max(position))\n",
    "plt.xlim(0,1.1*max(temps))\n",
    "plt.title(f\"Modélisation de la série de mesures\")\n",
    "plt.plot(temps,f(temps),'bo--')\n",
    "plt.show()\n",
    "\n",
    "print(f\"La modélisation de la série de mesures par une fonction affine d = A*t+B donne:\")\n",
    "print(f\"A = {round(A,2)} m/s\" )\n",
    "print(f\"B = {int(B)} m\")"
   ]
  }
 ],
 "metadata": {
  "kernelspec": {
   "display_name": "Python 3",
   "language": "python",
   "name": "python3"
  },
  "language_info": {
   "codemirror_mode": {
    "name": "ipython",
    "version": 3
   },
   "file_extension": ".py",
   "mimetype": "text/x-python",
   "name": "python",
   "nbconvert_exporter": "python",
   "pygments_lexer": "ipython3",
   "version": "3.7.4"
  }
 },
 "nbformat": 4,
 "nbformat_minor": 2
}
