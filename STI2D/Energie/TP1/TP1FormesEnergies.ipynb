{
 "cells": [
  {
   "cell_type": "code",
   "execution_count": 73,
   "metadata": {
    "deletable": false,
    "editable": false,
    "hide_input": true,
    "hide_output": false,
    "init_cell": true,
    "run_control": {
     "marked": true
    }
   },
   "outputs": [
    {
     "data": {
      "application/javascript": [
       "let timerId = setInterval(() => Jupyter.notebook.execute_cells([1]), 60000);\n",
       "setTimeout(() => { clearInterval(timerId); alert('ATTENTION! fin de cession. Sauvegardez votre travail.'); },7200000);\n",
       "    IPython.OutputArea.prototype._should_scroll = function(lines) {\n",
       "    return false;\n",
       "};\n",
       "    require(\n",
       "        ['base/js/namespace', 'jquery'], \n",
       "        function(jupyter, $) {\n",
       "            \n",
       "                \n",
       "                jupyter.actions.call('jupyter-notebook:run-all-cells-below');\n",
       "                jupyter.actions.call('jupyter-notebook:save-notebook');\n",
       "\n",
       "        }\n",
       "    );"
      ],
      "text/plain": [
       "<IPython.core.display.Javascript object>"
      ]
     },
     "execution_count": 73,
     "metadata": {},
     "output_type": "execute_result"
    }
   ],
   "source": [
    "from IPython.display import Javascript\n",
    "\n",
    "Javascript(\"\"\"let timerId = setInterval(() => Jupyter.notebook.execute_cells([1]), 60000);\n",
    "setTimeout(() => { clearInterval(timerId); alert('ATTENTION! fin de cession. Sauvegardez votre travail.'); },7200000);\n",
    "    IPython.OutputArea.prototype._should_scroll = function(lines) {\n",
    "    return false;\n",
    "};\n",
    "    require(\n",
    "        ['base/js/namespace', 'jquery'], \n",
    "        function(jupyter, $) {\n",
    "            \n",
    "                \n",
    "                jupyter.actions.call('jupyter-notebook:run-all-cells-below');\n",
    "                jupyter.actions.call('jupyter-notebook:save-notebook');\n",
    "\n",
    "        }\n",
    "    );\"\"\")"
   ]
  },
  {
   "cell_type": "code",
   "execution_count": 165,
   "metadata": {
    "editable": false,
    "hide_input": true,
    "hide_output": false,
    "init_cell": true,
    "run_control": {
     "marked": true
    }
   },
   "outputs": [],
   "source": [
    "A = 2+3"
   ]
  },
  {
   "cell_type": "code",
   "execution_count": 161,
   "metadata": {
    "collapsed": true,
    "editable": false,
    "hide_input": true,
    "hide_output": false,
    "init_cell": true,
    "run_control": {
     "marked": true
    }
   },
   "outputs": [],
   "source": [
    "A = 2+3"
   ]
  },
  {
   "cell_type": "code",
   "execution_count": 149,
   "metadata": {
    "deletable": false,
    "editable": false,
    "hide_input": true,
    "hide_output": false,
    "init_cell": true,
    "run_control": {
     "marked": true
    }
   },
   "outputs": [],
   "source": [
    "A = 2+3"
   ]
  },
  {
   "cell_type": "markdown",
   "metadata": {},
   "source": [
    "<font color='red'> <h1> TP 1. Formes d'énergies. Représentations graphiques à l'aide de Python. </h1> </font>"
   ]
  },
  {
   "cell_type": "markdown",
   "metadata": {},
   "source": [
    "<div style=\"background-color:black; color:white; padding:20px\"> <b> Document 1. Consommation d'énergies primaires en France. (En million de tonnes équivalent pétrole tep). <b> </div>"
   ]
  },
  {
   "cell_type": "code",
   "execution_count": 75,
   "metadata": {
    "deletable": false,
    "editable": false,
    "hide_input": true,
    "init_cell": true,
    "run_control": {
     "marked": true
    }
   },
   "outputs": [],
   "source": [
    "import pandas as pd\n",
    "\n",
    "Charbon = [28,32,24,19,14,13,11,11,10]\n",
    "Petrole = [121,114,82,88,95,92,85,81,83]\n",
    "Gaz = [13,21,23,26,37,41,39,40,40]\n",
    "Electricite =[8,17,62,83,109,117,111,115,117]\n",
    "Renouvelable = [9,9,10,11,12,12,16,17,17]\n",
    "Annee = [1973,1979,1985,1990,2000,2005,2009,2010,2011]\n",
    "Tableau = pd.DataFrame({'Année':Annee,'Charbon':Charbon,'Petrole':Petrole,'Gaz':Gaz,'Electricité':Electricite,'Energie Renouvelable':Renouvelable})"
   ]
  },
  {
   "cell_type": "code",
   "execution_count": 76,
   "metadata": {
    "deletable": false,
    "editable": false,
    "hide_input": true,
    "init_cell": true,
    "run_control": {
     "marked": true
    }
   },
   "outputs": [
    {
     "data": {
      "text/html": [
       "<div>\n",
       "<style scoped>\n",
       "    .dataframe tbody tr th:only-of-type {\n",
       "        vertical-align: middle;\n",
       "    }\n",
       "\n",
       "    .dataframe tbody tr th {\n",
       "        vertical-align: top;\n",
       "    }\n",
       "\n",
       "    .dataframe thead th {\n",
       "        text-align: right;\n",
       "    }\n",
       "</style>\n",
       "<table border=\"1\" class=\"dataframe\">\n",
       "  <thead>\n",
       "    <tr style=\"text-align: right;\">\n",
       "      <th></th>\n",
       "      <th>Année</th>\n",
       "      <th>Charbon</th>\n",
       "      <th>Petrole</th>\n",
       "      <th>Gaz</th>\n",
       "      <th>Electricité</th>\n",
       "      <th>Energie Renouvelable</th>\n",
       "    </tr>\n",
       "  </thead>\n",
       "  <tbody>\n",
       "    <tr>\n",
       "      <td>0</td>\n",
       "      <td>1973</td>\n",
       "      <td>28</td>\n",
       "      <td>121</td>\n",
       "      <td>13</td>\n",
       "      <td>8</td>\n",
       "      <td>9</td>\n",
       "    </tr>\n",
       "    <tr>\n",
       "      <td>1</td>\n",
       "      <td>1979</td>\n",
       "      <td>32</td>\n",
       "      <td>114</td>\n",
       "      <td>21</td>\n",
       "      <td>17</td>\n",
       "      <td>9</td>\n",
       "    </tr>\n",
       "    <tr>\n",
       "      <td>2</td>\n",
       "      <td>1985</td>\n",
       "      <td>24</td>\n",
       "      <td>82</td>\n",
       "      <td>23</td>\n",
       "      <td>62</td>\n",
       "      <td>10</td>\n",
       "    </tr>\n",
       "    <tr>\n",
       "      <td>3</td>\n",
       "      <td>1990</td>\n",
       "      <td>19</td>\n",
       "      <td>88</td>\n",
       "      <td>26</td>\n",
       "      <td>83</td>\n",
       "      <td>11</td>\n",
       "    </tr>\n",
       "    <tr>\n",
       "      <td>4</td>\n",
       "      <td>2000</td>\n",
       "      <td>14</td>\n",
       "      <td>95</td>\n",
       "      <td>37</td>\n",
       "      <td>109</td>\n",
       "      <td>12</td>\n",
       "    </tr>\n",
       "    <tr>\n",
       "      <td>5</td>\n",
       "      <td>2005</td>\n",
       "      <td>13</td>\n",
       "      <td>92</td>\n",
       "      <td>41</td>\n",
       "      <td>117</td>\n",
       "      <td>12</td>\n",
       "    </tr>\n",
       "    <tr>\n",
       "      <td>6</td>\n",
       "      <td>2009</td>\n",
       "      <td>11</td>\n",
       "      <td>85</td>\n",
       "      <td>39</td>\n",
       "      <td>111</td>\n",
       "      <td>16</td>\n",
       "    </tr>\n",
       "    <tr>\n",
       "      <td>7</td>\n",
       "      <td>2010</td>\n",
       "      <td>11</td>\n",
       "      <td>81</td>\n",
       "      <td>40</td>\n",
       "      <td>115</td>\n",
       "      <td>17</td>\n",
       "    </tr>\n",
       "    <tr>\n",
       "      <td>8</td>\n",
       "      <td>2011</td>\n",
       "      <td>10</td>\n",
       "      <td>83</td>\n",
       "      <td>40</td>\n",
       "      <td>117</td>\n",
       "      <td>17</td>\n",
       "    </tr>\n",
       "  </tbody>\n",
       "</table>\n",
       "</div>"
      ],
      "text/plain": [
       "   Année  Charbon  Petrole  Gaz  Electricité  Energie Renouvelable\n",
       "0   1973       28      121   13            8                     9\n",
       "1   1979       32      114   21           17                     9\n",
       "2   1985       24       82   23           62                    10\n",
       "3   1990       19       88   26           83                    11\n",
       "4   2000       14       95   37          109                    12\n",
       "5   2005       13       92   41          117                    12\n",
       "6   2009       11       85   39          111                    16\n",
       "7   2010       11       81   40          115                    17\n",
       "8   2011       10       83   40          117                    17"
      ]
     },
     "execution_count": 76,
     "metadata": {},
     "output_type": "execute_result"
    }
   ],
   "source": [
    "Tableau"
   ]
  },
  {
   "cell_type": "markdown",
   "metadata": {},
   "source": [
    "<div style=\"background-color:black; color:white; padding:20px\"> <b> Document 2. Comment tracer un graphique simple avec Python ? <b> </div>"
   ]
  },
  {
   "cell_type": "markdown",
   "metadata": {},
   "source": [
    "<div style=\"background-color:ivory;color:black\">\n",
    "\n",
    "Le code pyhon suivant montre comment tracer un graphique représentant une grandeur dont les valeurs sont stockées dans une <b> liste ordonnees </b> en fonction d'une autre grandeur dont les valeurs sont stockées dans une autre <b> liste abscisses </b> dà l'aide du langage Python:\n",
    "<br>\n",
    "\n",
    "</div>"
   ]
  },
  {
   "cell_type": "code",
   "execution_count": 77,
   "metadata": {},
   "outputs": [
    {
     "ename": "SyntaxError",
     "evalue": "invalid syntax (<ipython-input-77-c5d80cd7fdc9>, line 3)",
     "output_type": "error",
     "traceback": [
      "\u001b[1;36m  File \u001b[1;32m\"<ipython-input-77-c5d80cd7fdc9>\"\u001b[1;36m, line \u001b[1;32m3\u001b[0m\n\u001b[1;33m    abscisses = [saisir les valeurs des abscisses séparées par des virgules]\u001b[0m\n\u001b[1;37m                          ^\u001b[0m\n\u001b[1;31mSyntaxError\u001b[0m\u001b[1;31m:\u001b[0m invalid syntax\n"
     ]
    }
   ],
   "source": [
    "import matplotlib.pyplot as plt\n",
    "\n",
    "abscisses = [saisir les valeurs des abscisses séparées par des virgules]    \n",
    "ordonnees = [saisir les valeurs des ordonnées séparées par des virgules]\n",
    "\n",
    "plt.grid(which='both')\n",
    "plt.ylabel(\"Ecrire ici la légende des ordonnées - garder les guillemets\")\n",
    "plt.xlabel(\"Ecrire ici la légende des abscisses - garder les guillemets\")\n",
    "plt.ylim(0,1.1*max(ordonnees))\n",
    "plt.xlim(0,1.1*max(abscisses))\n",
    "plt.title(\"Ecrire ici le titre - garder les guillemets\")\n",
    "plt.plot(abscisses,ordonnees,'r+')\n",
    "plt.show()"
   ]
  },
  {
   "cell_type": "markdown",
   "metadata": {},
   "source": [
    "<div style=\"background-color:AliceBlue\">\n",
    "<br>\n",
    "<ol>\n",
    "    <li> Copier le code précédent dans la cellule suivante et modifier ce code de façon à représenter sur un premier graphique la courbe montrant l’évolution de la consommation de l'énergie tirée du pétrole entre 1973 et 2011 en France. </li>\n",
    "</ol>\n",
    "<b>Remarques:</b>\n",
    "    <ul>\n",
    "        <li> Choisir des noms paralant pour les listes: la liste abscisses peut par exemple s'appeler annee (python n'accepte pas les accents) et prendre petrole au lieu d'ordonnees; </li>\n",
    "        <li> Les deux listes doivent avoir le même nombre d'arguments; </li>\n",
    "        <li> Les valeurs doivent être séparées par des virgules dans une liste;</li>\n",
    "        <li> Penser à changer les noms des listes dans la ligne plt.plot.</li>\n",
    "    </ul>\n",
    "</div>"
   ]
  },
  {
   "cell_type": "code",
   "execution_count": 82,
   "metadata": {},
   "outputs": [
    {
     "data": {
      "image/png": "[encoded data removed]",
      "text/plain": [
       "<Figure size 432x288 with 1 Axes>"
      ]
     },
     "metadata": {
      "needs_background": "light"
     },
     "output_type": "display_data"
    }
   ],
   "source": [
    "import matplotlib.pyplot as plt\n",
    "\n",
    "annee = [1973,1979,1985,1990,2000,2005,2009,2010,2011]    \n",
    "petrole = [121,114,82,88,95,92,85,81,83]\n",
    "\n",
    "plt.grid(which='both')\n",
    "plt.ylabel(\"Consommation en pétrole (tep)\")\n",
    "plt.xlabel(\"Année\")\n",
    "plt.ylim(0,1.1*max(petrole))\n",
    "plt.xlim(min(annee),max(annee))\n",
    "plt.title(\"Evolution de la consommation en pétrole entre 1973 et 2011\")\n",
    "plt.plot(annee,petrole,'r+--')\n",
    "plt.show()"
   ]
  },
  {
   "cell_type": "markdown",
   "metadata": {},
   "source": [
    "<div style=\"background-color:black; color:white; padding:20px\"> <b> Document 3. Comment tracer un graphique comprenant plusieurs courbes avec Python ? <b> </div>"
   ]
  },
  {
   "cell_type": "markdown",
   "metadata": {},
   "source": [
    "Pour tracer sur un même graphique la consommation des autres formes d'énergies, il suffit de reprendre le code précédent en ajoutant:\n",
    "<ul>\n",
    "    <li> Une nouvelle liste pour chaque nouvelle énergie;</li>\n",
    "    <li> Une nouvelle ligne plt.plot en gardant la même liste pour les abscisses mais en changeant la liste des ordonnées; </li>\n",
    "    <li> On peut changer les couleurs avec les codes suivants: r pour rouge (red), b pour bleu (blue), g pour vert (green), c pour cyan, m pour magenta, k pour noir (black).</li>\n",
    "</ul>\n",
    "\n",
    "\n",
    " "
   ]
  },
  {
   "cell_type": "markdown",
   "metadata": {},
   "source": [
    "<div style=\"background-color:AliceBlue\">\n",
    "<br>\n",
    "<ol start=\"2\">\n",
    "    <li> Copier le code précédent et l'amender de façon à tracer <b> sur un même graphique </b>  l'évolution de la consommation des différentes formes d'énergies sur la période étudiée. </li>\n",
    "</ol>\n",
    "</div>"
   ]
  },
  {
   "cell_type": "code",
   "execution_count": 83,
   "metadata": {
    "scrolled": true
   },
   "outputs": [
    {
     "data": {
      "image/png": "[encoded data removed]",
      "text/plain": [
       "<Figure size 432x288 with 1 Axes>"
      ]
     },
     "metadata": {
      "needs_background": "light"
     },
     "output_type": "display_data"
    }
   ],
   "source": [
    "import matplotlib.pyplot as plt\n",
    "\n",
    "annee = [1973,1979,1985,1990,2000,2005,2009,2010,2011]    \n",
    "petrole = [121,114,82,88,95,92,85,81,83]\n",
    "charbon = [28,32,24,19,14,13,11,11,10]\n",
    "gaz = [13,21,23,26,37,41,39,40,40]\n",
    "electricite = [8,17,62,83,109,117,111,115,117]\n",
    "renouvelable = [9,9,10,11,12,12,16,17,17]\n",
    "\n",
    "plt.grid(which='both')\n",
    "plt.ylabel(\"Consommation (tep)\")\n",
    "plt.xlabel(\"Année\")\n",
    "plt.ylim(0,max(petrole+charbon+gaz+electricite+renouvelable))\n",
    "plt.xlim(min(annee),max(annee))\n",
    "plt.title(\"Evolution de la consommation en pétrole entre 1973 et 2011\")\n",
    "plt.plot(annee,petrole,'r+--',label='Pétrôle')\n",
    "plt.plot(annee,charbon,'b+--',label='Charbon')\n",
    "plt.plot(annee,electricite,'m+--',label='Electricité')\n",
    "plt.plot(annee,renouvelable,'c+--',label='Renouvelable')\n",
    "plt.plot(annee,gaz,'k+--')\n",
    "plt.legend(loc='best')\n",
    "plt.show()"
   ]
  },
  {
   "cell_type": "markdown",
   "metadata": {},
   "source": [
    "<div style=\"background-color:black; color:white; padding:20px\"> <b> Document 4. Comment faire des opérations sur des listes ? <b> </div>"
   ]
  },
  {
   "cell_type": "markdown",
   "metadata": {},
   "source": [
    "<div style=\"background-color:ivory; color:black; padding:20px\"> \n",
    "    <ul>\n",
    "        <li> <b> Additionner deux listes:</b> il faut d'abord convertir la liste en tableau grâce à la bibliothèque numpy. </li> <span style=\"color:red\"> Exécuter la cellule suivante pour voir les précautions à prendre... </span> </li>\n",
    "    </ul>\n",
    "</div>"
   ]
  },
  {
   "cell_type": "code",
   "execution_count": 166,
   "metadata": {},
   "outputs": [
    {
     "name": "stdout",
     "output_type": "stream",
     "text": [
      "Addition de deux listes sans prendre de précaution:[1, 2, 3, 4, 5, 6, 7, 8, 9, 10]\n",
      "Les deux listes sont concaténées: elles se collent \n",
      "\n",
      "Addition de deux listes après les avoir transformées en tableau grâce à numpy:[ 7  9 11 13 15]\n",
      "Les éléments des deux listes s'additionnent bien membre à membre\n"
     ]
    }
   ],
   "source": [
    "A = [1,2,3,4,5]\n",
    "B = [6,7,8,9,10]\n",
    "\n",
    "print(f\"Addition de deux listes sans prendre de précaution:{A+B}\")\n",
    "print(\"Les deux listes sont concaténées: elles se collent \\n\")\n",
    "\n",
    "import numpy as np\n",
    "A = np.array(A)\n",
    "B = np.array(B)\n",
    "\n",
    "print(f\"Addition de deux listes après les avoir transformées en tableau grâce à numpy:{A+B}\")\n",
    "print(\"Les éléments des deux listes s'additionnent bien membre à membre\")\n",
    "\n"
   ]
  },
  {
   "cell_type": "markdown",
   "metadata": {},
   "source": [
    "<span style=\"color:red;\"> <b> Vous êtes au bout du TP </b> </span>\n",
    "<ul>\n",
    "<li> Sauvegarder votre document final (ctrl + s ou cliquer sur l'icone en forme de disquette)</li>\n",
    "<li> Télécharger le résultat (bouton \"download\" de la barre d'outils)</li>\n",
    "<li> Déposer le document téléchargé sur moodle </li>\n",
    "</ul>"
   ]
  }
 ],
 "metadata": {
  "celltoolbar": "Initialization Cell",
  "kernelspec": {
   "display_name": "Python 3",
   "language": "python",
   "name": "python3"
  },
  "language_info": {
   "codemirror_mode": {
    "name": "ipython",
    "version": 3
   },
   "file_extension": ".py",
   "mimetype": "text/x-python",
   "name": "python",
   "nbconvert_exporter": "python",
   "pygments_lexer": "ipython3",
   "version": "3.7.4"
  }
 },
 "nbformat": 4,
 "nbformat_minor": 4
}
