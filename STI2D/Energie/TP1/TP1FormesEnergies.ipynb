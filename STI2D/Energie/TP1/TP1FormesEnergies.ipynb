{
 "cells": [
  {
   "cell_type": "code",
   "execution_count": 51,
   "metadata": {
    "editable": false,
    "hide_input": true,
    "hide_output": false,
    "init_cell": true,
    "run_control": {
     "marked": true
    }
   },
   "outputs": [
    {
     "data": {
      "application/javascript": [
       "let timerId = setInterval(() => Jupyter.notebook.execute_cells([1]), 60000);\n",
       "setTimeout(() => { clearInterval(timerId); alert('ATTENTION! fin de cession. Sauvegardez votre travail.'); },7200000);\n",
       "    IPython.OutputArea.prototype._should_scroll = function(lines) {\n",
       "    return false;\n",
       "};\n",
       "    require(\n",
       "        ['base/js/namespace', 'jquery'], \n",
       "        function(jupyter, $) {\n",
       "            \n",
       "                \n",
       "                jupyter.actions.call('jupyter-notebook:run-all-cells-below');\n",
       "                jupyter.actions.call('jupyter-notebook:save-notebook');\n",
       "\n",
       "        }\n",
       "    );"
      ],
      "text/plain": [
       "<IPython.core.display.Javascript object>"
      ]
     },
     "execution_count": 51,
     "metadata": {},
     "output_type": "execute_result"
    }
   ],
   "source": [
    "from IPython.display import Javascript\n",
    "\n",
    "Javascript(\"\"\"let timerId = setInterval(() => Jupyter.notebook.execute_cells([1]), 60000);\n",
    "setTimeout(() => { clearInterval(timerId); alert('ATTENTION! fin de cession. Sauvegardez votre travail.'); },7200000);\n",
    "    IPython.OutputArea.prototype._should_scroll = function(lines) {\n",
    "    return false;\n",
    "};\n",
    "    require(\n",
    "        ['base/js/namespace', 'jquery'], \n",
    "        function(jupyter, $) {\n",
    "            \n",
    "                \n",
    "                jupyter.actions.call('jupyter-notebook:run-all-cells-below');\n",
    "                jupyter.actions.call('jupyter-notebook:save-notebook');\n",
    "\n",
    "        }\n",
    "    );\"\"\")"
   ]
  },
  {
   "cell_type": "code",
   "execution_count": 76,
   "metadata": {
    "editable": false,
    "hide_input": true,
    "hide_output": false,
    "init_cell": true,
    "run_control": {
     "marked": true
    }
   },
   "outputs": [],
   "source": [
    "A = 2+3"
   ]
  },
  {
   "cell_type": "markdown",
   "metadata": {},
   "source": [
    "<font color='red'> <h1> TP Formes d'énergies. </h1> </font>"
   ]
  },
  {
   "cell_type": "markdown",
   "metadata": {},
   "source": [
    "<div style=\"background-color:black; color:white; padding:20px\"> <b> Document 1. Consommation d'énergies primaires en France. (En million de tonnes équivalent pétrole tep). <b> </div>"
   ]
  },
  {
   "cell_type": "code",
   "execution_count": 53,
   "metadata": {
    "editable": false,
    "hide_input": true,
    "init_cell": true,
    "run_control": {
     "marked": true
    }
   },
   "outputs": [],
   "source": [
    "import pandas as pd\n",
    "\n",
    "Charbon = [28,32,24,19,14,13,11,11,10]\n",
    "Petrole = [121,114,82,88,95,92,85,81,83]\n",
    "Gaz = [13,21,23,26,37,41,39,40,40]\n",
    "Electricite =[8,17,62,83,109,117,111,115,117]\n",
    "Renouvelable = [9,9,10,11,12,12,16,17,17]\n",
    "Annee = [1973,1979,1985,1990,2000,2005,2009,2010,2011]\n",
    "Tableau = pd.DataFrame({'Année':Annee,'Charbon':Charbon,'Petrole':Petrole,'Gaz':Gaz,'Electricité':Electricite,'Energie Renouvelable':Renouvelable})"
   ]
  },
  {
   "cell_type": "code",
   "execution_count": 54,
   "metadata": {
    "editable": false,
    "hide_input": true,
    "init_cell": true,
    "run_control": {
     "marked": true
    }
   },
   "outputs": [
    {
     "data": {
      "text/html": [
       "<div>\n",
       "<style scoped>\n",
       "    .dataframe tbody tr th:only-of-type {\n",
       "        vertical-align: middle;\n",
       "    }\n",
       "\n",
       "    .dataframe tbody tr th {\n",
       "        vertical-align: top;\n",
       "    }\n",
       "\n",
       "    .dataframe thead th {\n",
       "        text-align: right;\n",
       "    }\n",
       "</style>\n",
       "<table border=\"1\" class=\"dataframe\">\n",
       "  <thead>\n",
       "    <tr style=\"text-align: right;\">\n",
       "      <th></th>\n",
       "      <th>Année</th>\n",
       "      <th>Charbon</th>\n",
       "      <th>Petrole</th>\n",
       "      <th>Gaz</th>\n",
       "      <th>Electricité</th>\n",
       "      <th>Energie Renouvelable</th>\n",
       "    </tr>\n",
       "  </thead>\n",
       "  <tbody>\n",
       "    <tr>\n",
       "      <th>0</th>\n",
       "      <td>1973</td>\n",
       "      <td>28</td>\n",
       "      <td>121</td>\n",
       "      <td>13</td>\n",
       "      <td>8</td>\n",
       "      <td>9</td>\n",
       "    </tr>\n",
       "    <tr>\n",
       "      <th>1</th>\n",
       "      <td>1979</td>\n",
       "      <td>32</td>\n",
       "      <td>114</td>\n",
       "      <td>21</td>\n",
       "      <td>17</td>\n",
       "      <td>9</td>\n",
       "    </tr>\n",
       "    <tr>\n",
       "      <th>2</th>\n",
       "      <td>1985</td>\n",
       "      <td>24</td>\n",
       "      <td>82</td>\n",
       "      <td>23</td>\n",
       "      <td>62</td>\n",
       "      <td>10</td>\n",
       "    </tr>\n",
       "    <tr>\n",
       "      <th>3</th>\n",
       "      <td>1990</td>\n",
       "      <td>19</td>\n",
       "      <td>88</td>\n",
       "      <td>26</td>\n",
       "      <td>83</td>\n",
       "      <td>11</td>\n",
       "    </tr>\n",
       "    <tr>\n",
       "      <th>4</th>\n",
       "      <td>2000</td>\n",
       "      <td>14</td>\n",
       "      <td>95</td>\n",
       "      <td>37</td>\n",
       "      <td>109</td>\n",
       "      <td>12</td>\n",
       "    </tr>\n",
       "    <tr>\n",
       "      <th>5</th>\n",
       "      <td>2005</td>\n",
       "      <td>13</td>\n",
       "      <td>92</td>\n",
       "      <td>41</td>\n",
       "      <td>117</td>\n",
       "      <td>12</td>\n",
       "    </tr>\n",
       "    <tr>\n",
       "      <th>6</th>\n",
       "      <td>2009</td>\n",
       "      <td>11</td>\n",
       "      <td>85</td>\n",
       "      <td>39</td>\n",
       "      <td>111</td>\n",
       "      <td>16</td>\n",
       "    </tr>\n",
       "    <tr>\n",
       "      <th>7</th>\n",
       "      <td>2010</td>\n",
       "      <td>11</td>\n",
       "      <td>81</td>\n",
       "      <td>40</td>\n",
       "      <td>115</td>\n",
       "      <td>17</td>\n",
       "    </tr>\n",
       "    <tr>\n",
       "      <th>8</th>\n",
       "      <td>2011</td>\n",
       "      <td>10</td>\n",
       "      <td>83</td>\n",
       "      <td>40</td>\n",
       "      <td>117</td>\n",
       "      <td>17</td>\n",
       "    </tr>\n",
       "  </tbody>\n",
       "</table>\n",
       "</div>"
      ],
      "text/plain": [
       "   Année  Charbon  Petrole  Gaz  Electricité  Energie Renouvelable\n",
       "0   1973       28      121   13            8                     9\n",
       "1   1979       32      114   21           17                     9\n",
       "2   1985       24       82   23           62                    10\n",
       "3   1990       19       88   26           83                    11\n",
       "4   2000       14       95   37          109                    12\n",
       "5   2005       13       92   41          117                    12\n",
       "6   2009       11       85   39          111                    16\n",
       "7   2010       11       81   40          115                    17\n",
       "8   2011       10       83   40          117                    17"
      ]
     },
     "execution_count": 54,
     "metadata": {},
     "output_type": "execute_result"
    }
   ],
   "source": [
    "Tableau"
   ]
  },
  {
   "cell_type": "markdown",
   "metadata": {},
   "source": [
    "<div style=\"background-color:AliceBlue\">\n",
    "<br>\n",
    "<ol>\n",
    "    <li> Représenter sur un graphique les courbes montrant l’évolution de la consommation des\n",
    "différentes énergies primaires entre 1973 et 2011 en France, ainsi que la consommation\n",
    "totale. On pourra utiliser un tableur. Commenter l’allure des différentes courbes. </li>\n",
    "    <li> Pour les années 1973 et 2011, exprimer en pourcentage la part de chaque énergie dans\n",
    "la consommation totale. Faire des diagrammes camembert avec un tableur. </li>\n",
    "</ol>\n",
    "</div>"
   ]
  },
  {
   "cell_type": "markdown",
   "metadata": {},
   "source": [
    "<div style=\"background-color:ivory; color:black; padding:20px\">\n",
    "    <b> Alimentation de la plaquette (création de lignes de potentiel) </b>:\n",
    "<ul>\n",
    "    <li> <b> Potentiel 0 V:</b> Relier la borne <span style = \"background-color:white;color:black \"> <b> GND </b> </span> de la carte Arduino à la ligne de masse de la plaquette </li>\n",
    "    <li> <b> Potentiel 5 V:</b> Relier la borne <span style = \"background-color:white;color:black \"> <b> 5 V </b> </span> de la carte Arduino à la ligne d'alimentation de  de la plaquette (broadband en anglais);</li>\n",
    "    \n",
    "</ul> \n",
    "    <b> Alimentation du capteur à ultrason HC-SR-04 </b>:\n",
    "\n",
    "<ul>\n",
    "    <li> Brancher le capteur HC-SR-04 sur la plaquette;</li>\n",
    "    <li> Relier la broche <span style = \"background-color:white;color:black \"> <b> GND </b> </span> du capteur à la ligne de masse de la plaquette;</li>\n",
    "    <li> Relier la broche <span style = \"background-color:white;color:black \"> <b> VCC </b> </span> du capteur à la ligne de potentiel 5 V de la plaquette;</li>\n",
    "    <li> Relier la broche <span style = \"background-color:white;color:black \"> <b> TRIG </b> </span> du capteur à la broche 12 de la carte Arduino; </li>\n",
    "    <li> Relier la broche <span style = \"background-color:white;color:black \"> <b> ECHO </b> </span> du capteur à la broche 13 de la carte Arduino; </li>\n",
    "</ul>\n",
    "<br>\n",
    "<center> <img src=\"Montage.PNG\" alt=\"Schéma du montage Tinkercad\" width=\"1000px\"</center>\n",
    "</div>"
   ]
  },
  {
   "cell_type": "markdown",
   "metadata": {},
   "source": [
    "<div style=\"background-color:black; color:white; padding:20px\"> <b> Programmation du microcontrôleur.<b> </div>"
   ]
  },
  {
   "cell_type": "markdown",
   "metadata": {},
   "source": [
    "<div style=\"ivory\">\n",
    "\n",
    "On veut utiliser le montage précédent pour mesurer la durée $\\Delta$t écoulée entre l'émission d'une salve d'ultrasons et sa réception lorsque ce signal est réfléchi par un obstacle situé à une distance d connue du capteur.\n",
    "<br>\n",
    "Le programme suivant permet de mesurer et d'afficher dans le <b> port série </b> (fenêtre d'affichage du microcontrôleur) cette durée.\n",
    "\n",
    "<div>"
   ]
  },
  {
   "cell_type": "markdown",
   "metadata": {},
   "source": [
    "<b> Le programme d'un microcontrôleur peut être décomposé en 3 parties principales:</b>\n",
    "<ul>\n",
    "    <li> 1<sup>ere</sup> partie: la délaration des constantes en début de programme;</li>\n",
    "    <li> 2<sup>eme</sup> partie: initialisation des variables comprise dans le bloc<span style=\"color:red\"> void setup(){.....} </span>;</li>\n",
    "    <li> 3<sup>eme</sup> partie: commandes executées en continu durant un temps infini comprise dans le bloc <span style=\"color:red\"> void loop(){} </span>;</li>\n",
    "</ul>"
   ]
  },
  {
   "cell_type": "markdown",
   "metadata": {},
   "source": [
    "<div style=\"background-color:lightsteelblue\">\n",
    "const int Trigger = saisir numéro de la broche ;<br>\n",
    "const int Echo = saisir le numéro de la broche;<br>\n",
    "const float Celerite = saisir la valeur de la célérité du son;<br>\n",
    "</div>\n",
    "\n",
    "<div style=\"background-color:lavenderblush\">\n",
    "void setup (){<br>\n",
    "  pinMode (Trigger,OUTPUT);<br>\n",
    "  pinMode (Echo, INPUT);<br>\n",
    "  Serial.begin(115200);<br>\n",
    "  digitalWrite(Trigger,LOW);<br>\n",
    "   };\n",
    "</div>\n",
    "<div style=\"background-color:lightskyblue\"> \n",
    "void loop(){<br>\n",
    "  digitalWrite(Trigger,HIGH);<br>\n",
    "  delayMicroseconds(10);<br>\n",
    "  digitalWrite(Trigger,LOW);<br>\n",
    "  float duree_aller_retour = pulseIn(Echo,HIGH);<br>  \n",
    "  Serial.print(\"Durée de l'aller retour:\");<br>\n",
    "  Serial.print(duree_aller_retour);<br>\n",
    "  Serial.println(\" µs\");<br>\n",
    "  delay(2000);<br>\n",
    "<div>  \n",
    "  }"
   ]
  },
  {
   "cell_type": "markdown",
   "metadata": {},
   "source": [
    "<div style=\"background-color:AliceBlue\">\n",
    "Compléter le programme précédent en saisissant:\n",
    "<br>\n",
    "<ol>\n",
    "    <li> Le numéro de la broche Arduino reliée à la broche TRIG du capteur; </li>\n",
    "    <li> Le numéro de la broche Arduino reliée à la broche ECHO du capteur; </li>\n",
    "    <li> La valeur (dans l'unité légale) de la célérité du son dans l'air dans la première partie du programme; </li>\n",
    "</ol>\n",
    "</div>"
   ]
  },
  {
   "cell_type": "markdown",
   "metadata": {},
   "source": [
    "<div style=\"background-color:ivory\">\n",
    "<ul>\n",
    "    <li> Relier le microcontrôleur Arduino au PC à l'aide du câble USB;</li>\n",
    "    <li> Lancer le logiciel Arduino: [Logiciels] $\\rightarrow$[Physique-Chimie]</li>\n",
    "    <li> Effacer le contenu de la fenêtre qui vient de s'ouvrir et le remplacer par le code précédent;</li>\n",
    "    <li> Dans le menu <b> Outil </b>, sélectionner <b> Port </b> et choisir celui relié à la carte Arduino;</li>\n",
    "    <li> Cliquer sur le bouton <b> Vérifier </b> (pour s'assurer qu'il n'y a pas d'erreur de syntaxe);<img src=\"Verifier.PNG\" alt=\"Logo\"  width=\"20px\"> </li>\n",
    "    <li> Cliquer sur le bouton <b> Téléverser </b> (Le programme est alors transféré dans le microcontrôleur); <img src = \"Televerser.PNG\" alt =\"Logo\" width=\"20px\"></li>\n",
    "    <li> Cliquer sur l'onglet <b> Outil </b>, puis <b> Moniteur Série </b>: une fenêtre s'ouvre dans laquelle la duréee $\\Delta$t apparaît;</li>\n",
    "    <li> En bas à droite de la fenêtre, vérifier que la vitesse de communication du port série est bien de 115200; </li>\n",
    "</ul>\n",
    "</div>"
   ]
  },
  {
   "cell_type": "markdown",
   "metadata": {},
   "source": [
    "<div style=\"background-color:AliceBlue\">\n",
    "Compléter le programme précédent en saisissant:\n",
    "<br>\n",
    "<ol start=\"4\">\n",
    "    <li> Mesurer la durée $\\Delta$t pour différentes valeurs de la distance d (tous les 5 cm avec d allant de 5 cm à 40 cm) </li>\n",
    "    <li> Saisir vos mesures dans les listes <b> duree ($\\mu$s) </b> et <b> distance (cm) </b> du code python suivant puis <span style=\"color: red\"> cliquer sur le bouton Executer la cellule pour actualiser votre saisie</span>. </li>\n",
    "</ol>\n",
    "    \n",
    "<br>\n",
    "<b> Remarque: </b>\n",
    "    <ul>\n",
    "        <li> Les éléments d'une liste sont séparés par des virgules;</li>\n",
    "        <li> Le séparateur décimal est un point et non pas une virgule en python; </li>\n",
    "        <li> Les éléments de la liste distance sont exprimés en <b> cm </b>; </li>\n",
    "        <li> Les éléments de la liste duree sont exprimés en <b> $\\mu$s </b>; </li>\n",
    "        <li> Les deux listes distance et duree doivent avoir le même nombre d'éléments; </li>  \n",
    "    </ul>    \n",
    "    \n",
    "</div>\n",
    "\n"
   ]
  },
  {
   "cell_type": "code",
   "execution_count": 55,
   "metadata": {
    "hide_input": false,
    "run_control": {
     "marked": false
    }
   },
   "outputs": [
    {
     "ename": "SyntaxError",
     "evalue": "invalid syntax (<ipython-input-55-d356acdec278>, line 3)",
     "output_type": "error",
     "traceback": [
      "\u001b[0;36m  File \u001b[0;32m\"<ipython-input-55-d356acdec278>\"\u001b[0;36m, line \u001b[0;32m3\u001b[0m\n\u001b[0;31m    distance = [Saisir vos valeurs ici en tenant compte des remarques précédentes]\u001b[0m\n\u001b[0m                         ^\u001b[0m\n\u001b[0;31mSyntaxError\u001b[0m\u001b[0;31m:\u001b[0m invalid syntax\n"
     ]
    }
   ],
   "source": [
    "import pandas as pd\n",
    "\n",
    "distance = [Saisir vos valeurs ici en tenant compte des remarques précédentes]\n",
    "\n",
    "duree = [Saisir vos valeurs ici en tenant compte des remarques précédentes]\n",
    "\n",
    "distance_convertie = [i/100 for i in distance]\n",
    "\n",
    "duree_convertie = [i/(1E6) for i in duree]\n",
    "\n",
    "Tableau = pd.DataFrame({'d(cm)':distance,'d(m)':distance_convertie,'t(µs)':duree,'t(s)':duree_convertie})\n",
    "\n",
    "Tableau"
   ]
  },
  {
   "cell_type": "markdown",
   "metadata": {},
   "source": [
    "<div style=\"background-color:ivory\">\n",
    "\n",
    "Le code suivant vous montre comment:\n",
    "<ul>\n",
    "    <li> Créer un tableau <b> Tb </b> à partir de 2 listes <b> A </b> et <b> B </b> contenant le même nombre d'arguments; </li>\n",
    "    <li> Calculer une nouvelle grandeur à partir de celles déjà contenues dans le tableau et afficher le résultat;  </li>\n",
    "</ul>\n",
    "\n",
    "<div>"
   ]
  },
  {
   "cell_type": "code",
   "execution_count": 56,
   "metadata": {
    "hide_input": false,
    "run_control": {
     "marked": false
    }
   },
   "outputs": [
    {
     "data": {
      "text/html": [
       "<div>\n",
       "<style scoped>\n",
       "    .dataframe tbody tr th:only-of-type {\n",
       "        vertical-align: middle;\n",
       "    }\n",
       "\n",
       "    .dataframe tbody tr th {\n",
       "        vertical-align: top;\n",
       "    }\n",
       "\n",
       "    .dataframe thead th {\n",
       "        text-align: right;\n",
       "    }\n",
       "</style>\n",
       "<table border=\"1\" class=\"dataframe\">\n",
       "  <thead>\n",
       "    <tr style=\"text-align: right;\">\n",
       "      <th></th>\n",
       "      <th>ColonneA</th>\n",
       "      <th>ColonneB</th>\n",
       "      <th>ColonneC</th>\n",
       "    </tr>\n",
       "  </thead>\n",
       "  <tbody>\n",
       "    <tr>\n",
       "      <th>0</th>\n",
       "      <td>1</td>\n",
       "      <td>6</td>\n",
       "      <td>7</td>\n",
       "    </tr>\n",
       "    <tr>\n",
       "      <th>1</th>\n",
       "      <td>2</td>\n",
       "      <td>7</td>\n",
       "      <td>9</td>\n",
       "    </tr>\n",
       "    <tr>\n",
       "      <th>2</th>\n",
       "      <td>3</td>\n",
       "      <td>8</td>\n",
       "      <td>11</td>\n",
       "    </tr>\n",
       "    <tr>\n",
       "      <th>3</th>\n",
       "      <td>4</td>\n",
       "      <td>9</td>\n",
       "      <td>13</td>\n",
       "    </tr>\n",
       "    <tr>\n",
       "      <th>4</th>\n",
       "      <td>5</td>\n",
       "      <td>10</td>\n",
       "      <td>15</td>\n",
       "    </tr>\n",
       "  </tbody>\n",
       "</table>\n",
       "</div>"
      ],
      "text/plain": [
       "   ColonneA  ColonneB  ColonneC\n",
       "0         1         6         7\n",
       "1         2         7         9\n",
       "2         3         8        11\n",
       "3         4         9        13\n",
       "4         5        10        15"
      ]
     },
     "execution_count": 56,
     "metadata": {},
     "output_type": "execute_result"
    }
   ],
   "source": [
    "A = [1,2,3,4,5]\n",
    "B = [6,7,8,9,10]\n",
    "\n",
    "Tb = pd.DataFrame({'ColonneA':A,'ColonneB':B})\n",
    "\n",
    "Tb['ColonneC'] = Tb['ColonneA']+ Tb['ColonneB']\n",
    "\n",
    "Tb"
   ]
  },
  {
   "cell_type": "markdown",
   "metadata": {},
   "source": [
    "<div style=\"background-color:AliceBlue\">\n",
    "<ol start=\"6\">\n",
    "    <li> En vous inspirant de l'exemple précédent, modifier le code Python suivant de façon à calculer et afficher dans un tableau la vitesse V de l'onde sonore dans son unité légale. On fera tout particulièrement attention à la syntaxe !\n",
    "</ol>\n",
    "</div>"
   ]
  },
  {
   "cell_type": "code",
   "execution_count": 57,
   "metadata": {
    "hide_input": false,
    "run_control": {
     "marked": false
    }
   },
   "outputs": [
    {
     "ename": "SyntaxError",
     "evalue": "invalid syntax (<ipython-input-57-89a274fef7bc>, line 3)",
     "output_type": "error",
     "traceback": [
      "\u001b[0;36m  File \u001b[0;32m\"<ipython-input-57-89a274fef7bc>\"\u001b[0;36m, line \u001b[0;32m3\u001b[0m\n\u001b[0;31m    Tableau['V(m/s)'] =\u001b[0m\n\u001b[0m                        ^\u001b[0m\n\u001b[0;31mSyntaxError\u001b[0m\u001b[0;31m:\u001b[0m invalid syntax\n"
     ]
    }
   ],
   "source": [
    "Tableau = pd.DataFrame({'d(m)':distance_convertie,'t(s)':duree_convertie})\n",
    "\n",
    "Tableau['V(m/s)'] = \n",
    "\n",
    "Tableau"
   ]
  },
  {
   "cell_type": "markdown",
   "metadata": {},
   "source": [
    "<div style=\"background-color:ivory\">\n",
    "<ul start=\"6\">\n",
    "    <li> Le code suivant vous montre comment calculer la moyenne d'une série de données contenue dans un tableau. </li> \n",
    "</ul>\n",
    "</div>"
   ]
  },
  {
   "cell_type": "code",
   "execution_count": null,
   "metadata": {
    "hide_input": false,
    "run_control": {
     "marked": false
    }
   },
   "outputs": [],
   "source": [
    "A = [1,2,3,4,5]\n",
    "B = [6,7,8,9,10]\n",
    "\n",
    "Tb = pd.DataFrame({'ColonneA':A,'colonneB':B})\n",
    "\n",
    "moyenne_A = Tb['ColonneA'].mean()\n",
    "\n",
    "print(f\"La moyenne de la colonne A est: {moyenne_A}\")"
   ]
  },
  {
   "cell_type": "markdown",
   "metadata": {},
   "source": [
    "<div style=\"background-color:AliceBlue\">\n",
    "<ol start=\"7\">\n",
    "    <li> En vous inspirant de l'exemple précédent, calculer la moyenne de la célérité du son. \n",
    "</ol>\n",
    "</div>"
   ]
  },
  {
   "cell_type": "code",
   "execution_count": null,
   "metadata": {
    "hide_input": false,
    "run_control": {
     "marked": false
    }
   },
   "outputs": [],
   "source": []
  },
  {
   "cell_type": "markdown",
   "metadata": {},
   "source": [
    "<div style=\"background-color:AliceBlue\">\n",
    "<ol start=\"8\">\n",
    "    <li> Proposer une modification du code de la carte Arduino pour afficher la distance (en cm) entre le capteur et l'obstacle. On pourra créer une variable dans laquelle on stockera cette valeur. \n",
    "</ol>\n",
    "</div>"
   ]
  },
  {
   "cell_type": "markdown",
   "metadata": {},
   "source": [
    "<span style=\"color:red;\"> <b> Vous êtes au bout du TP </b> </span>\n",
    "<ul>\n",
    "<li> Sauvegarder votre document final (ctrl + s ou cliquer sur l'icone en forme de disquette)</li>\n",
    "<li> Télécharger le résultat (bouton \"download\" de la barre d'outils)</li>\n",
    "<li> Déposer le document téléchargé sur moodle </li>\n",
    "</ul>"
   ]
  }
 ],
 "metadata": {
  "celltoolbar": "Initialization Cell",
  "kernelspec": {
   "display_name": "Python 3",
   "language": "python",
   "name": "python3"
  },
  "language_info": {
   "codemirror_mode": {
    "name": "ipython",
    "version": 3
   },
   "file_extension": ".py",
   "mimetype": "text/x-python",
   "name": "python",
   "nbconvert_exporter": "python",
   "pygments_lexer": "ipython3",
   "version": "3.7.8"
  }
 },
 "nbformat": 4,
 "nbformat_minor": 4
}
