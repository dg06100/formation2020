{
 "cells": [
  {
   "cell_type": "code",
   "execution_count": 14,
   "metadata": {
    "hide_input": true,
    "hide_output": false,
    "init_cell": true,
    "run_control": {
     "marked": true
    }
   },
   "outputs": [
    {
     "data": {
      "application/javascript": [
       "let timerId = setInterval(() => Jupyter.notebook.execute_cells([1]), 60000);\n",
       "setTimeout(() => { clearInterval(timerId); alert('ATTENTION! fin de cession. Sauvegardez votre travail.'); },7200000);\n",
       "    IPython.OutputArea.prototype._should_scroll = function(lines) {\n",
       "    return false;\n",
       "};\n",
       "    require(\n",
       "        ['base/js/namespace', 'jquery'], \n",
       "        function(jupyter, $) {\n",
       "            \n",
       "                \n",
       "                jupyter.actions.call('jupyter-notebook:run-all-cells-below');\n",
       "                jupyter.actions.call('jupyter-notebook:save-notebook');\n",
       "\n",
       "        }\n",
       "    );"
      ],
      "text/plain": [
       "<IPython.core.display.Javascript object>"
      ]
     },
     "execution_count": 14,
     "metadata": {},
     "output_type": "execute_result"
    }
   ],
   "source": [
    "from IPython.display import Javascript\n",
    "\n",
    "Javascript(\"\"\"let timerId = setInterval(() => Jupyter.notebook.execute_cells([1]), 60000);\n",
    "setTimeout(() => { clearInterval(timerId); alert('ATTENTION! fin de cession. Sauvegardez votre travail.'); },7200000);\n",
    "    IPython.OutputArea.prototype._should_scroll = function(lines) {\n",
    "    return false;\n",
    "};\n",
    "    require(\n",
    "        ['base/js/namespace', 'jquery'], \n",
    "        function(jupyter, $) {\n",
    "            \n",
    "                \n",
    "                jupyter.actions.call('jupyter-notebook:run-all-cells-below');\n",
    "                jupyter.actions.call('jupyter-notebook:save-notebook');\n",
    "\n",
    "        }\n",
    "    );\"\"\")"
   ]
  },
  {
   "cell_type": "code",
   "execution_count": 15,
   "metadata": {
    "hide_input": true,
    "hide_output": false,
    "init_cell": true,
    "run_control": {
     "marked": true
    }
   },
   "outputs": [],
   "source": [
    "A = 2+3"
   ]
  },
  {
   "cell_type": "markdown",
   "metadata": {},
   "source": [
    "<font color='red'> <h1> TP Ondes mécaniques progressives Arduino</h1> </font>"
   ]
  },
  {
   "cell_type": "markdown",
   "metadata": {},
   "source": [
    "<font color=\"red\"> <h2> Mesure de la célérité du son à l'aide d'un microcontrôleur.</h2> </font>"
   ]
  },
  {
   "cell_type": "markdown",
   "metadata": {},
   "source": [
    "<div style=\"background-color:black; color:white; padding:20px\"> <b> Réalisation du montage.<b> </div>"
   ]
  },
  {
   "cell_type": "markdown",
   "metadata": {},
   "source": [
    "<div style=\"background-color:ivory; color:black; padding:20px\">\n",
    "    <b> Alimentation de la plaquette (création de lignes de potentiel) </b>:\n",
    "<ul>\n",
    "    <li> <b> Potentiel 0 V:</b> Relier la borne <span style = \"background-color:white;color:black \"> <b> GND </b> </span> de la carte Arduino à la ligne de masse de la plaquette </li>\n",
    "    <li> <b> Potentiel 5 V:</b> Relier la borne <span style = \"background-color:white;color:black \"> <b> 5 V </b> </span> de la carte Arduino à la ligne d'alimentation de  de la plaquette (broadband en anglais);</li>\n",
    "    \n",
    "</ul> \n",
    "    <b> Alimentation du capteur à ultrason HC-SR-04 </b>:\n",
    "\n",
    "<ul>\n",
    "    <li> Brancher le capteur HC-SR-04 sur la plaquette;</li>\n",
    "    <li> Relier la broche <span style = \"background-color:white;color:black \"> <b> GND </b> </span> du capteur à la ligne de masse de la plaquette;</li>\n",
    "    <li> Relier la broche <span style = \"background-color:white;color:black \"> <b> VCC </b> </span> du capteur à la ligne de potentiel 5 V de la plaquette;</li>\n",
    "    <li> Relier la broche <span style = \"background-color:white;color:black \"> <b> TRIG </b> </span> du capteur à la broche 12 de la carte Arduino; </li>\n",
    "    <li> Relier la broche <span style = \"background-color:white;color:black \"> <b> ECHO </b> </span> du capteur à la broche 13 de la carte Arduino; </li>\n",
    "</ul>\n",
    "<br>\n",
    "<center> <img src=\"Montage.PNG\" alt=\"Schéma du montage Tinkercad\" width=\"1000px\"</center>\n",
    "</div>"
   ]
  },
  {
   "cell_type": "markdown",
   "metadata": {},
   "source": [
    "<div style=\"background-color:black; color:white; padding:20px\"> <b> Programmation du microcontrôleur.<b> </div>"
   ]
  },
  {
   "cell_type": "markdown",
   "metadata": {},
   "source": [
    "<div style=\"ivory\">\n",
    "\n",
    "On veut utiliser le montage précédent pour mesurer la durée $\\Delta$t écoulée entre l'émission d'une salve d'ultrasons et sa réception lorsque ce signal est réfléchi par un obstacle situé à une distance d connue du capteur.\n",
    "<br>\n",
    "Le programme suivant permet de mesurer et d'afficher dans le <b> port série </b> (fenêtre d'affichage du microcontrôleur) cette durée.\n",
    "\n",
    "<div>"
   ]
  },
  {
   "cell_type": "markdown",
   "metadata": {},
   "source": [
    "<b> Le programme d'un microcontrôleur peut être décomposé en 3 parties principales:</b>\n",
    "<ul>\n",
    "    <li> 1<sup>ere</sup> partie: la délaration des constantes en début de programme;</li>\n",
    "    <li> 2<sup>eme</sup> partie: initialisation des variables comprise dans le bloc<span style=\"color:red\"> void setup(){.....} </span>;</li>\n",
    "    <li> 3<sup>eme</sup> partie: commandes executées en continu durant un temps infini comprise dans le bloc <span style=\"color:red\"> void loop(){} </span>;</li>\n",
    "</ul>"
   ]
  },
  {
   "cell_type": "markdown",
   "metadata": {},
   "source": [
    "<div style=\"background-color:lightsteelblue\">\n",
    "const int Trigger = saisir numéro de la broche ;<br>\n",
    "const int Echo = saisir le numéro de la broche;<br>\n",
    "const float Celerite = saisir la valeur de la célérité du son;<br>\n",
    "</div>\n",
    "\n",
    "<div style=\"background-color:lavenderblush\">\n",
    "void setup (){<br>\n",
    "  pinMode (Trigger,OUTPUT);<br>\n",
    "  pinMode (Echo, INPUT);<br>\n",
    "  Serial.begin(115200);<br>\n",
    "  digitalWrite(Trigger,LOW);<br>\n",
    "   };\n",
    "</div>\n",
    "<div style=\"background-color:lightskyblue\"> \n",
    "void loop(){<br>\n",
    "  digitalWrite(Trigger,HIGH);<br>\n",
    "  delayMicroseconds(10);<br>\n",
    "  digitalWrite(Trigger,LOW);<br>\n",
    "  float duree_aller_retour = pulseIn(Echo,HIGH);<br>  \n",
    "  Serial.print(\"Durée de l'aller retour:\");<br>\n",
    "  Serial.print(duree_aller_retour);<br>\n",
    "  Serial.println(\" µs\");<br>\n",
    "  delay(2000);<br>\n",
    "<div>  \n",
    "  }"
   ]
  },
  {
   "cell_type": "markdown",
   "metadata": {},
   "source": [
    "<div style=\"background-color:AliceBlue\">\n",
    "Compléter le programme précédent en saisissant:\n",
    "<br>\n",
    "<ol>\n",
    "    <li> Le numéro de la broche Arduino reliée à la broche TRIG du capteur; </li>\n",
    "    <li> Le numéro de la broche Arduino reliée à la broche ECHO du capteur; </li>\n",
    "    <li> La valeur (dans l'unité légale) de la célérité du son dans l'air dans la première partie du programme; </li>\n",
    "</ol>\n",
    "</div>"
   ]
  },
  {
   "cell_type": "markdown",
   "metadata": {},
   "source": [
    "<div style=\"background-color:ivory\">\n",
    "<ul>\n",
    "    <li> Relier le microcontrôleur Arduino au PC à l'aide du câble USB;</li>\n",
    "    <li> Lancer le logiciel Arduino: [Logiciels] $\\rightarrow$[Physique-Chimie]</li>\n",
    "    <li> Effacer le contenu de la fenêtre qui vient de s'ouvrir et le remplacer par le code précédent;</li>\n",
    "    <li> Dans le menu <b> Outil </b>, sélectionner <b> Port </b> et choisir celui relié à la carte Arduino;</li>\n",
    "    <li> Cliquer sur le bouton <b> Vérifier </b> (pour s'assurer qu'il n'y a pas d'erreur de syntaxe);<img src=\"Verifier.PNG\" alt=\"Logo\"  width=\"20px\"> </li>\n",
    "    <li> Cliquer sur le bouton <b> Téléverser </b> (Le programme est alors transféré dans le microcontrôleur); <img src = \"Televerser.PNG\" alt =\"Logo\" width=\"20px\"></li>\n",
    "    <li> Cliquer sur l'onglet <b> Outil </b>, puis <b> Moniteur Série </b>: une fenêtre s'ouvre dans laquelle la duréee $\\Delta$t apparaît;</li>\n",
    "    <li> En bas à droite de la fenêtre, vérifier que la vitesse de communication du port série est bien de 115200; </li>\n",
    "</ul>\n",
    "</div>"
   ]
  },
  {
   "cell_type": "markdown",
   "metadata": {},
   "source": [
    "<div style=\"background-color:AliceBlue\">\n",
    "Compléter le programme précédent en saisissant:\n",
    "<br>\n",
    "<ol start=\"4\">\n",
    "    <li> Mesurer la durée $\\Delta$t pour différentes valeurs de la distance d (tous les 5 cm avec d allant de 5 cm à 40 cm) </li>\n",
    "    <li> Saisir vos mesures dans les listes <b> duree ($\\mu$s) </b> et <b> distance (cm) </b> du code python suivant puis <span style=\"color: red\"> cliquer sur le bouton Executer la cellule pour actualiser votre saisie</span>. </li>\n",
    "</ol>\n",
    "    \n",
    "<br>\n",
    "<b> Remarque: </b>\n",
    "    <ul>\n",
    "        <li> Les éléments d'une liste sont séparés par des virgules;</li>\n",
    "        <li> Le séparateur décimal est un point et non pas une virgule en python; </li>\n",
    "        <li> Les éléments de la liste distance sont exprimés en <b> cm </b>; </li>\n",
    "        <li> Les éléments de la liste duree sont exprimés en <b> $\\mu$s </b>; </li>\n",
    "        <li> Les deux listes distance et duree doivent avoir le même nombre d'éléments; </li>  \n",
    "    </ul>    \n",
    "    \n",
    "</div>\n",
    "\n"
   ]
  },
  {
   "cell_type": "code",
   "execution_count": 16,
   "metadata": {
    "hide_input": false,
    "run_control": {
     "marked": false
    }
   },
   "outputs": [
    {
     "ename": "SyntaxError",
     "evalue": "invalid syntax (<ipython-input-16-d356acdec278>, line 3)",
     "output_type": "error",
     "traceback": [
      "\u001b[0;36m  File \u001b[0;32m\"<ipython-input-16-d356acdec278>\"\u001b[0;36m, line \u001b[0;32m3\u001b[0m\n\u001b[0;31m    distance = [Saisir vos valeurs ici en tenant compte des remarques précédentes]\u001b[0m\n\u001b[0m                         ^\u001b[0m\n\u001b[0;31mSyntaxError\u001b[0m\u001b[0;31m:\u001b[0m invalid syntax\n"
     ]
    }
   ],
   "source": [
    "import pandas as pd\n",
    "\n",
    "distance = [Saisir vos valeurs ici en tenant compte des remarques précédentes]\n",
    "\n",
    "duree = [Saisir vos valeurs ici en tenant compte des remarques précédentes]\n",
    "\n",
    "distance_convertie = [i/100 for i in distance]\n",
    "\n",
    "duree_convertie = [i/(1E6) for i in duree]\n",
    "\n",
    "Tableau = pd.DataFrame({'d(cm)':distance,'d(m)':distance_convertie,'t(µs)':duree,'t(s)':duree_convertie})\n",
    "\n",
    "Tableau"
   ]
  },
  {
   "cell_type": "markdown",
   "metadata": {},
   "source": [
    "<div style=\"background-color:ivory\">\n",
    "\n",
    "Le code suivant vous montre comment:\n",
    "<ul>\n",
    "    <li> Créer un tableau <b> Tb </b> à partir de 2 listes <b> A </b> et <b> B </b> contenant le même nombre d'arguments; </li>\n",
    "    <li> Calculer une nouvelle grandeur à partir de celles déjà contenues dans le tableau et afficher le résultat;  </li>\n",
    "</ul>\n",
    "\n",
    "<div>"
   ]
  },
  {
   "cell_type": "code",
   "execution_count": 17,
   "metadata": {
    "hide_input": false,
    "run_control": {
     "marked": false
    }
   },
   "outputs": [
    {
     "ename": "NameError",
     "evalue": "name 'pd' is not defined",
     "output_type": "error",
     "traceback": [
      "\u001b[0;31m---------------------------------------------------------------------------\u001b[0m",
      "\u001b[0;31mNameError\u001b[0m                                 Traceback (most recent call last)",
      "\u001b[0;32m<ipython-input-17-8cb73e873b56>\u001b[0m in \u001b[0;36m<module>\u001b[0;34m\u001b[0m\n\u001b[1;32m      2\u001b[0m \u001b[0mB\u001b[0m \u001b[0;34m=\u001b[0m \u001b[0;34m[\u001b[0m\u001b[0;36m6\u001b[0m\u001b[0;34m,\u001b[0m\u001b[0;36m7\u001b[0m\u001b[0;34m,\u001b[0m\u001b[0;36m8\u001b[0m\u001b[0;34m,\u001b[0m\u001b[0;36m9\u001b[0m\u001b[0;34m,\u001b[0m\u001b[0;36m10\u001b[0m\u001b[0;34m]\u001b[0m\u001b[0;34m\u001b[0m\u001b[0;34m\u001b[0m\u001b[0m\n\u001b[1;32m      3\u001b[0m \u001b[0;34m\u001b[0m\u001b[0m\n\u001b[0;32m----> 4\u001b[0;31m \u001b[0mTb\u001b[0m \u001b[0;34m=\u001b[0m \u001b[0mpd\u001b[0m\u001b[0;34m.\u001b[0m\u001b[0mDataFrame\u001b[0m\u001b[0;34m(\u001b[0m\u001b[0;34m{\u001b[0m\u001b[0;34m'ColonneA'\u001b[0m\u001b[0;34m:\u001b[0m\u001b[0mA\u001b[0m\u001b[0;34m,\u001b[0m\u001b[0;34m'ColonneB'\u001b[0m\u001b[0;34m:\u001b[0m\u001b[0mB\u001b[0m\u001b[0;34m}\u001b[0m\u001b[0;34m)\u001b[0m\u001b[0;34m\u001b[0m\u001b[0;34m\u001b[0m\u001b[0m\n\u001b[0m\u001b[1;32m      5\u001b[0m \u001b[0;34m\u001b[0m\u001b[0m\n\u001b[1;32m      6\u001b[0m \u001b[0mTb\u001b[0m\u001b[0;34m[\u001b[0m\u001b[0;34m'ColonneC'\u001b[0m\u001b[0;34m]\u001b[0m \u001b[0;34m=\u001b[0m \u001b[0mTb\u001b[0m\u001b[0;34m[\u001b[0m\u001b[0;34m'ColonneA'\u001b[0m\u001b[0;34m]\u001b[0m\u001b[0;34m+\u001b[0m \u001b[0mTb\u001b[0m\u001b[0;34m[\u001b[0m\u001b[0;34m'ColonneB'\u001b[0m\u001b[0;34m]\u001b[0m\u001b[0;34m\u001b[0m\u001b[0;34m\u001b[0m\u001b[0m\n",
      "\u001b[0;31mNameError\u001b[0m: name 'pd' is not defined"
     ]
    }
   ],
   "source": [
    "A = [1,2,3,4,5]\n",
    "B = [6,7,8,9,10]\n",
    "\n",
    "Tb = pd.DataFrame({'ColonneA':A,'ColonneB':B})\n",
    "\n",
    "Tb['ColonneC'] = Tb['ColonneA']+ Tb['ColonneB']\n",
    "\n",
    "Tb"
   ]
  },
  {
   "cell_type": "markdown",
   "metadata": {},
   "source": [
    "<div style=\"background-color:AliceBlue\">\n",
    "<ol start=\"6\">\n",
    "    <li> En vous inspirant de l'exemple précédent, modifier le code Python suivant de façon à calculer et afficher dans un tableau la vitesse V de l'onde sonore dans son unité légale. On fera tout particulièrement attention à la syntaxe !\n",
    "</ol>\n",
    "</div>"
   ]
  },
  {
   "cell_type": "code",
   "execution_count": null,
   "metadata": {
    "hide_input": false,
    "run_control": {
     "marked": false
    }
   },
   "outputs": [],
   "source": [
    "Tableau = pd.DataFrame({'d(m)':distance_convertie,'t(s)':duree_convertie})\n",
    "\n",
    "Tableau['V(m/s)'] = \n",
    "\n",
    "Tableau"
   ]
  },
  {
   "cell_type": "markdown",
   "metadata": {},
   "source": [
    "<div style=\"background-color:ivory\">\n",
    "<ul start=\"6\">\n",
    "    <li> Le code suivant vous montre comment calculer la moyenne d'une série de données contenue dans un tableau. </li> \n",
    "</ul>\n",
    "</div>"
   ]
  },
  {
   "cell_type": "code",
   "execution_count": null,
   "metadata": {
    "hide_input": false,
    "run_control": {
     "marked": false
    }
   },
   "outputs": [],
   "source": [
    "A = [1,2,3,4,5]\n",
    "B = [6,7,8,9,10]\n",
    "\n",
    "Tb = pd.DataFrame({'ColonneA':A,'colonneB':B})\n",
    "\n",
    "moyenne_A = Tb['ColonneA'].mean()\n",
    "\n",
    "print(f\"La moyenne de la colonne A est: {moyenne_A}\")"
   ]
  },
  {
   "cell_type": "markdown",
   "metadata": {},
   "source": [
    "<div style=\"background-color:AliceBlue\">\n",
    "<ol start=\"7\">\n",
    "    <li> En vous inspirant de l'exemple précédent, calculer la moyenne de la célérité du son. \n",
    "</ol>\n",
    "</div>"
   ]
  },
  {
   "cell_type": "code",
   "execution_count": null,
   "metadata": {
    "hide_input": false,
    "run_control": {
     "marked": false
    }
   },
   "outputs": [],
   "source": []
  },
  {
   "cell_type": "markdown",
   "metadata": {},
   "source": [
    "<div style=\"background-color:AliceBlue\">\n",
    "<ol start=\"8\">\n",
    "    <li> Proposer une modification du code de la carte Arduino pour afficher la distance (en cm) entre le capteur et l'obstacle. On pourra créer une variable dans laquelle on stockera cette valeur. \n",
    "</ol>\n",
    "</div>"
   ]
  },
  {
   "cell_type": "markdown",
   "metadata": {},
   "source": [
    "<span style=\"color:red;\"> <b> Vous êtes au bout du TP </b> </span>\n",
    "<ul>\n",
    "<li> Sauvegarder votre document final (ctrl + s ou cliquer sur l'icone en forme de disquette)</li>\n",
    "<li> Télécharger le résultat (bouton \"download\" de la barre d'outils)</li>\n",
    "<li> Déposer le document téléchargé sur moodle </li>\n",
    "</ul>"
   ]
  }
 ],
 "metadata": {
  "celltoolbar": "Initialization Cell",
  "kernelspec": {
   "display_name": "Python 3",
   "language": "python",
   "name": "python3"
  },
  "language_info": {
   "codemirror_mode": {
    "name": "ipython",
    "version": 3
   },
   "file_extension": ".py",
   "mimetype": "text/x-python",
   "name": "python",
   "nbconvert_exporter": "python",
   "pygments_lexer": "ipython3",
   "version": "3.7.8"
  }
 },
 "nbformat": 4,
 "nbformat_minor": 4
}
